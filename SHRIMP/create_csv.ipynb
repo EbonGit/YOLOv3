{
 "cells": [
  {
   "cell_type": "code",
   "execution_count": 1,
   "metadata": {},
   "outputs": [],
   "source": [
    "import os\n",
    "import csv\n",
    "import random\n",
    "from math import floor\n",
    "\n",
    "def create_csv_split(images_dir, labels_dir, train_csv, test_csv, split_ratio=0.8):\n",
    "    # Liste les fichiers dans le dossier des images\n",
    "    images_files = sorted([f for f in os.listdir(images_dir) if f.endswith(\".jpg\")])\n",
    "    labels_files = sorted([f for f in os.listdir(labels_dir) if f.endswith(\".txt\")])\n",
    "\n",
    "    # Filtrer uniquement les paires correspondantes image/label\n",
    "    image_label_pairs = []\n",
    "    for image_file in images_files:\n",
    "        label_file = image_file.replace(\".jpg\", \".txt\")\n",
    "        if label_file in labels_files:\n",
    "            image_label_pairs.append((image_file, label_file))\n",
    "        else:\n",
    "            print(f\"Aucun label trouvé pour l'image: {image_file}\")\n",
    "\n",
    "    # Mélange les paires de manière aléatoire\n",
    "    random.shuffle(image_label_pairs)\n",
    "\n",
    "    # Calcule l'index de séparation selon le ratio de split\n",
    "    split_index = floor(len(image_label_pairs) * split_ratio)\n",
    "\n",
    "    # Divise en données d'entraînement et de test\n",
    "    train_pairs = image_label_pairs[:split_index]\n",
    "    test_pairs = image_label_pairs[split_index:]\n",
    "\n",
    "    # Fonction pour écrire les paires dans un fichier CSV\n",
    "    def write_csv(file_name, pairs):\n",
    "        with open(file_name, mode='w', newline='') as file:\n",
    "            writer = csv.writer(file)\n",
    "            writer.writerow([\"image_path\", \"label_path\"])  # En-têtes\n",
    "            for image_path, label_path in pairs:\n",
    "                writer.writerow([image_path, label_path])  # Seuls les noms de fichiers\n",
    "\n",
    "    # Crée les fichiers train.csv et test.csv\n",
    "    write_csv(train_csv, train_pairs)\n",
    "    write_csv(test_csv, test_pairs)\n",
    "\n",
    "    print(f\"Fichier CSV d'entraînement créé : {train_csv} ({len(train_pairs)} paires)\")\n",
    "    print(f\"Fichier CSV de test créé : {test_csv} ({len(test_pairs)} paires)\")"
   ]
  },
  {
   "cell_type": "code",
   "execution_count": 2,
   "metadata": {},
   "outputs": [
    {
     "name": "stdout",
     "output_type": "stream",
     "text": [
      "Fichier CSV d'entraînement créé : train.csv (511 paires)\n",
      "Fichier CSV de test créé : test.csv (57 paires)\n"
     ]
    }
   ],
   "source": [
    "images_dir = \"./images\"\n",
    "labels_dir = \"./labels\"\n",
    "\n",
    "    # Noms des fichiers CSV de sortie\n",
    "train_csv = \"train.csv\"\n",
    "test_csv = \"test.csv\"\n",
    "\n",
    "# Créer les fichiers CSV avec 80% pour l'entraînement et 20% pour les tests\n",
    "create_csv_split(images_dir, labels_dir, train_csv, test_csv, split_ratio=0.9)"
   ]
  }
 ],
 "metadata": {
  "kernelspec": {
   "display_name": "base",
   "language": "python",
   "name": "python3"
  },
  "language_info": {
   "codemirror_mode": {
    "name": "ipython",
    "version": 3
   },
   "file_extension": ".py",
   "mimetype": "text/x-python",
   "name": "python",
   "nbconvert_exporter": "python",
   "pygments_lexer": "ipython3",
   "version": "3.11.7"
  }
 },
 "nbformat": 4,
 "nbformat_minor": 2
}
